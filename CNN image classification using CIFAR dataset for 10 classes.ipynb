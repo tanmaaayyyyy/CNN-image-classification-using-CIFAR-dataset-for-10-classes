{
 "cells": [
  {
   "cell_type": "code",
   "execution_count": 2,
   "id": "850bbc8f-cc83-4816-9282-13d7332fc73d",
   "metadata": {},
   "outputs": [],
   "source": [
    "import tensorflow as tf\n",
    "from tensorflow.keras import layers, models\n",
    "import matplotlib.pyplot as plt"
   ]
  },
  {
   "cell_type": "code",
   "execution_count": 3,
   "id": "16647093-9098-4dfc-a41c-e0734bb57803",
   "metadata": {},
   "outputs": [],
   "source": [
    "(x_train, y_train), (x_test, y_test) = tf.keras.datasets.cifar10.load_data()\n",
    "x_train = x_train / 255.0\n",
    "x_test = x_test / 255.0"
   ]
  },
  {
   "cell_type": "code",
   "execution_count": 4,
   "id": "2c1895e5-70a8-415d-8b3d-b515d2902c19",
   "metadata": {},
   "outputs": [
    {
     "ename": "AttributeError",
     "evalue": "'numpy.ndarray' object has no attribute 'head'",
     "output_type": "error",
     "traceback": [
      "\u001b[1;31m---------------------------------------------------------------------------\u001b[0m",
      "\u001b[1;31mAttributeError\u001b[0m                            Traceback (most recent call last)",
      "Cell \u001b[1;32mIn[4], line 1\u001b[0m\n\u001b[1;32m----> 1\u001b[0m \u001b[43mx_train\u001b[49m\u001b[38;5;241;43m.\u001b[39;49m\u001b[43mhead\u001b[49m()\n",
      "\u001b[1;31mAttributeError\u001b[0m: 'numpy.ndarray' object has no attribute 'head'"
     ]
    }
   ],
   "source": [
    "x_train.head()"
   ]
  },
  {
   "cell_type": "code",
   "execution_count": 5,
   "id": "3c3f8ed2-18eb-4b21-853b-01acc08d16f4",
   "metadata": {},
   "outputs": [],
   "source": [
    "model = models.Sequential([\n",
    "    layers.Conv2D(32, (3, 3), activation='relu', input_shape=(32, 32, 3)),\n",
    "    layers.MaxPooling2D((2, 2)),\n",
    "\n",
    "    layers.Conv2D(64, (3, 3), activation='relu'),\n",
    "    layers.MaxPooling2D((2, 2)),\n",
    "\n",
    "    layers.Conv2D(64, (3, 3), activation='relu'),\n",
    "\n",
    "    layers.Flatten(),\n",
    "    layers.Dense(64, activation='relu'),\n",
    "    layers.Dense(10)  # 10 classes\n",
    "])"
   ]
  },
  {
   "cell_type": "markdown",
   "id": "b28860aa-edda-49e8-ba83-fee4c43de746",
   "metadata": {},
   "source": [
    "| Layer Type  | Purpose                        | Shape Change            |\n",
    "| ----------- | ------------------------------ | ----------------------- |\n",
    "| Conv2D (32) | Extract low-level features     | (32,32,3) → (30,30,32)  |\n",
    "| MaxPool     | Downsample                     | (30,30,32) → (15,15,32) |\n",
    "| Conv2D (64) | Extract mid-level features     | (15,15,32) → (13,13,64) |\n",
    "| MaxPool     | Downsample                     | (13,13,64) → (6,6,64)   |\n",
    "| Conv2D (64) | Extract high-level features    | (6,6,64) → (4,4,64)     |\n",
    "| Flatten     | Prepare for Dense Layer        | (4,4,64) → (1024,)      |\n",
    "| Dense (64)  | Learn combinations of features | (1024,) → (64,)         |\n",
    "| Dense (10)  | Output class logits            | (64,) → (10,)           |"
   ]
  },
  {
   "cell_type": "code",
   "execution_count": 7,
   "id": "fb505377-09d6-4747-9f3a-64055ce70f7c",
   "metadata": {},
   "outputs": [
    {
     "name": "stdout",
     "output_type": "stream",
     "text": [
      "Epoch 1/10\n",
      "1563/1563 [==============================] - 31s 20ms/step - loss: 1.5355 - accuracy: 0.4366 - val_loss: 1.3414 - val_accuracy: 0.5086\n",
      "Epoch 2/10\n",
      "1563/1563 [==============================] - 28s 18ms/step - loss: 1.1762 - accuracy: 0.5803 - val_loss: 1.0892 - val_accuracy: 0.6114\n",
      "Epoch 3/10\n",
      "1563/1563 [==============================] - 29s 19ms/step - loss: 1.0129 - accuracy: 0.6455 - val_loss: 0.9953 - val_accuracy: 0.6537\n",
      "Epoch 4/10\n",
      "1563/1563 [==============================] - 28s 18ms/step - loss: 0.9151 - accuracy: 0.6779 - val_loss: 0.9575 - val_accuracy: 0.6703\n",
      "Epoch 5/10\n",
      "1563/1563 [==============================] - 34s 22ms/step - loss: 0.8457 - accuracy: 0.7020 - val_loss: 0.9245 - val_accuracy: 0.6787\n",
      "Epoch 6/10\n",
      "1563/1563 [==============================] - 35s 22ms/step - loss: 0.7956 - accuracy: 0.7221 - val_loss: 0.8821 - val_accuracy: 0.6966\n",
      "Epoch 7/10\n",
      "1563/1563 [==============================] - 31s 20ms/step - loss: 0.7449 - accuracy: 0.7404 - val_loss: 0.8981 - val_accuracy: 0.7007\n",
      "Epoch 8/10\n",
      "1563/1563 [==============================] - 32s 20ms/step - loss: 0.6990 - accuracy: 0.7559 - val_loss: 0.8697 - val_accuracy: 0.7015\n",
      "Epoch 9/10\n",
      "1563/1563 [==============================] - 32s 20ms/step - loss: 0.6569 - accuracy: 0.7694 - val_loss: 0.8476 - val_accuracy: 0.7152\n",
      "Epoch 10/10\n",
      "1563/1563 [==============================] - 32s 20ms/step - loss: 0.6219 - accuracy: 0.7799 - val_loss: 0.8773 - val_accuracy: 0.7057\n"
     ]
    }
   ],
   "source": [
    "model.compile(optimizer='adam',\n",
    "              loss=tf.keras.losses.SparseCategoricalCrossentropy(from_logits=True),\n",
    "              metrics=['accuracy'])\n",
    "\n",
    "history = model.fit(x_train, y_train, epochs=10, validation_data=(x_test, y_test))"
   ]
  },
  {
   "cell_type": "code",
   "execution_count": 11,
   "id": "c27bd29b-56e1-440d-8c70-faced941add8",
   "metadata": {},
   "outputs": [
    {
     "name": "stdout",
     "output_type": "stream",
     "text": [
      "Model: \"sequential\"\n",
      "_________________________________________________________________\n",
      " Layer (type)                Output Shape              Param #   \n",
      "=================================================================\n",
      " conv2d (Conv2D)             (None, 30, 30, 32)        896       \n",
      "                                                                 \n",
      " max_pooling2d (MaxPooling2D  (None, 15, 15, 32)       0         \n",
      " )                                                               \n",
      "                                                                 \n",
      " conv2d_1 (Conv2D)           (None, 13, 13, 64)        18496     \n",
      "                                                                 \n",
      " max_pooling2d_1 (MaxPooling  (None, 6, 6, 64)         0         \n",
      " 2D)                                                             \n",
      "                                                                 \n",
      " conv2d_2 (Conv2D)           (None, 4, 4, 64)          36928     \n",
      "                                                                 \n",
      " flatten (Flatten)           (None, 1024)              0         \n",
      "                                                                 \n",
      " dense (Dense)               (None, 64)                65600     \n",
      "                                                                 \n",
      " dense_1 (Dense)             (None, 10)                650       \n",
      "                                                                 \n",
      "=================================================================\n",
      "Total params: 122,570\n",
      "Trainable params: 122,570\n",
      "Non-trainable params: 0\n",
      "_________________________________________________________________\n"
     ]
    }
   ],
   "source": [
    "model.summary()"
   ]
  },
  {
   "cell_type": "code",
   "execution_count": 13,
   "id": "9e9e0179-0a4b-41c4-9704-6167717c5493",
   "metadata": {},
   "outputs": [
    {
     "name": "stdout",
     "output_type": "stream",
     "text": [
      "313/313 - 1s - loss: 0.8773 - accuracy: 0.7057 - 1s/epoch - 4ms/step\n",
      "Test Accuracy: 0.7056999802589417\n"
     ]
    }
   ],
   "source": [
    "test_loss, test_acc = model.evaluate(x_test, y_test, verbose=2)\n",
    "print(f\"Test Accuracy: {test_acc}\")"
   ]
  },
  {
   "cell_type": "code",
   "execution_count": 15,
   "id": "ec509d93-626c-40c2-bcf5-35c5795d1f52",
   "metadata": {},
   "outputs": [
    {
     "data": {
      "image/png": "[encoded data removed]",
      "text/plain": [
       "<Figure size 640x480 with 1 Axes>"
      ]
     },
     "metadata": {},
     "output_type": "display_data"
    }
   ],
   "source": [
    "plt.plot(history.history['accuracy'], label='Train Acc')\n",
    "plt.plot(history.history['val_accuracy'], label='Val Acc')\n",
    "plt.xlabel('Epoch')\n",
    "plt.ylabel('Accuracy')\n",
    "plt.legend()\n",
    "plt.show()"
   ]
  },
  {
   "cell_type": "code",
   "execution_count": null,
   "id": "662c3e9b-b7d4-4aca-9ad0-2b52f7c9b361",
   "metadata": {},
   "outputs": [],
   "source": []
  },
  {
   "cell_type": "code",
   "execution_count": null,
   "id": "76d18b68-b1a2-4c5e-a69c-48652f9fff7c",
   "metadata": {},
   "outputs": [],
   "source": []
  }
 ],
 "metadata": {
  "kernelspec": {
   "display_name": "thenv",
   "language": "python",
   "name": "myenv"
  },
  "language_info": {
   "codemirror_mode": {
    "name": "ipython",
    "version": 3
   },
   "file_extension": ".py",
   "mimetype": "text/x-python",
   "name": "python",
   "nbconvert_exporter": "python",
   "pygments_lexer": "ipython3",
   "version": "3.10.11"
  }
 },
 "nbformat": 4,
 "nbformat_minor": 5
}
